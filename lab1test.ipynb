{
  "nbformat": 4,
  "nbformat_minor": 0,
  "metadata": {
    "colab": {
      "provenance": [],
      "include_colab_link": true
    },
    "kernelspec": {
      "name": "python3",
      "display_name": "Python 3"
    },
    "language_info": {
      "name": "python"
    }
  },
  "cells": [
    {
      "cell_type": "markdown",
      "metadata": {
        "id": "view-in-github",
        "colab_type": "text"
      },
      "source": [
        "<a href=\"https://colab.research.google.com/github/ramakrishna454/ramakrishna/blob/main/lab1test.ipynb\" target=\"_parent\"><img src=\"https://colab.research.google.com/assets/colab-badge.svg\" alt=\"Open In Colab\"/></a>"
      ]
    },
    {
      "cell_type": "markdown",
      "source": [
        "# mangali ramakrishna 24bcahh010109"
      ],
      "metadata": {
        "id": "Ixiyv1x60WCU"
      }
    },
    {
      "cell_type": "markdown",
      "source": [],
      "metadata": {
        "id": "HKTYmOIF0dBT"
      }
    },
    {
      "cell_type": "code",
      "execution_count": null,
      "metadata": {
        "colab": {
          "base_uri": "https://localhost:8080/"
        },
        "id": "geXAHe3DyQqv",
        "outputId": "3da86313-d33c-4e5d-8ebf-ac58d0b730e6"
      },
      "outputs": [
        {
          "output_type": "stream",
          "name": "stdout",
          "text": [
            "Drive already mounted at /content/drive; to attempt to forcibly remount, call drive.mount(\"/content/drive\", force_remount=True).\n"
          ]
        }
      ],
      "source": [
        "from google.colab import drive\n",
        "drive.mount('/content/drive')\n"
      ]
    },
    {
      "cell_type": "code",
      "source": [
        "import pandas as pd\n",
        "df = pd.read_excel('/content/drive/MyDrive/even_worksheet.xlsx')"
      ],
      "metadata": {
        "id": "a8PUAllZy-NO"
      },
      "execution_count": null,
      "outputs": []
    },
    {
      "cell_type": "code",
      "source": [
        "df.head()"
      ],
      "metadata": {
        "colab": {
          "base_uri": "https://localhost:8080/",
          "height": 348
        },
        "id": "0jiQO3rczWpl",
        "outputId": "b87de883-f31c-49b5-bad6-6c38f2bceec5"
      },
      "execution_count": null,
      "outputs": [
        {
          "output_type": "execute_result",
          "data": {
            "text/plain": [
              "  Booking_ID Customer_ID Destination             Travel_Dates Booking_Date  \\\n",
              "0   BKG01438    CUST5663   BANGALORE  2024-05-27 - 2025-06-02   2023-07-26   \n",
              "1   BKG02701    CUST4963     Vietnam  2024/05/02 / 2025/06/28   2024-02-05   \n",
              "2   BKG03648    cust5625       Tokyo  2023-12-02 - 2025-03-09   2024-07-17   \n",
              "3   BKG02513    CUST4246       Delhi  2023-11-10 - 2024-09-13   2024-03-15   \n",
              "4   bkg02903    CUST3901     Chennai  2023-11-09 - 2024-08-22   2023-04-09   \n",
              "\n",
              "   Number_of_Travelers Travel_Package Payment_Method  Total_Cost  \\\n",
              "0                  3.0        Premium     Debit Card    41695.84   \n",
              "1                  3.0       Standard    Credit Card    36619.85   \n",
              "2                  2.0            NaN            NaN    44543.87   \n",
              "3                  6.0         Luxury    Credit Card    41053.94   \n",
              "4                  3.0         Luxury         PayPal    36238.26   \n",
              "\n",
              "            Travel_Agent                                  Customer_Feedback  \n",
              "0               Bass Inc  Power matter brother guy. Out adult perhaps ge...  \n",
              "1             Wood Group  Position call within size than couple. Effect ...  \n",
              "2        Bridges-Collins                                                NaN  \n",
              "3  Edwards, Hill and Lee                                                NaN  \n",
              "4              Hardy Inc                                                NaN  "
            ],
            "text/html": [
              "\n",
              "  <div id=\"df-78d8fe9d-2773-4c85-af90-8491bf6ed404\" class=\"colab-df-container\">\n",
              "    <div>\n",
              "<style scoped>\n",
              "    .dataframe tbody tr th:only-of-type {\n",
              "        vertical-align: middle;\n",
              "    }\n",
              "\n",
              "    .dataframe tbody tr th {\n",
              "        vertical-align: top;\n",
              "    }\n",
              "\n",
              "    .dataframe thead th {\n",
              "        text-align: right;\n",
              "    }\n",
              "</style>\n",
              "<table border=\"1\" class=\"dataframe\">\n",
              "  <thead>\n",
              "    <tr style=\"text-align: right;\">\n",
              "      <th></th>\n",
              "      <th>Booking_ID</th>\n",
              "      <th>Customer_ID</th>\n",
              "      <th>Destination</th>\n",
              "      <th>Travel_Dates</th>\n",
              "      <th>Booking_Date</th>\n",
              "      <th>Number_of_Travelers</th>\n",
              "      <th>Travel_Package</th>\n",
              "      <th>Payment_Method</th>\n",
              "      <th>Total_Cost</th>\n",
              "      <th>Travel_Agent</th>\n",
              "      <th>Customer_Feedback</th>\n",
              "    </tr>\n",
              "  </thead>\n",
              "  <tbody>\n",
              "    <tr>\n",
              "      <th>0</th>\n",
              "      <td>BKG01438</td>\n",
              "      <td>CUST5663</td>\n",
              "      <td>BANGALORE</td>\n",
              "      <td>2024-05-27 - 2025-06-02</td>\n",
              "      <td>2023-07-26</td>\n",
              "      <td>3.0</td>\n",
              "      <td>Premium</td>\n",
              "      <td>Debit Card</td>\n",
              "      <td>41695.84</td>\n",
              "      <td>Bass Inc</td>\n",
              "      <td>Power matter brother guy. Out adult perhaps ge...</td>\n",
              "    </tr>\n",
              "    <tr>\n",
              "      <th>1</th>\n",
              "      <td>BKG02701</td>\n",
              "      <td>CUST4963</td>\n",
              "      <td>Vietnam</td>\n",
              "      <td>2024/05/02 / 2025/06/28</td>\n",
              "      <td>2024-02-05</td>\n",
              "      <td>3.0</td>\n",
              "      <td>Standard</td>\n",
              "      <td>Credit Card</td>\n",
              "      <td>36619.85</td>\n",
              "      <td>Wood Group</td>\n",
              "      <td>Position call within size than couple. Effect ...</td>\n",
              "    </tr>\n",
              "    <tr>\n",
              "      <th>2</th>\n",
              "      <td>BKG03648</td>\n",
              "      <td>cust5625</td>\n",
              "      <td>Tokyo</td>\n",
              "      <td>2023-12-02 - 2025-03-09</td>\n",
              "      <td>2024-07-17</td>\n",
              "      <td>2.0</td>\n",
              "      <td>NaN</td>\n",
              "      <td>NaN</td>\n",
              "      <td>44543.87</td>\n",
              "      <td>Bridges-Collins</td>\n",
              "      <td>NaN</td>\n",
              "    </tr>\n",
              "    <tr>\n",
              "      <th>3</th>\n",
              "      <td>BKG02513</td>\n",
              "      <td>CUST4246</td>\n",
              "      <td>Delhi</td>\n",
              "      <td>2023-11-10 - 2024-09-13</td>\n",
              "      <td>2024-03-15</td>\n",
              "      <td>6.0</td>\n",
              "      <td>Luxury</td>\n",
              "      <td>Credit Card</td>\n",
              "      <td>41053.94</td>\n",
              "      <td>Edwards, Hill and Lee</td>\n",
              "      <td>NaN</td>\n",
              "    </tr>\n",
              "    <tr>\n",
              "      <th>4</th>\n",
              "      <td>bkg02903</td>\n",
              "      <td>CUST3901</td>\n",
              "      <td>Chennai</td>\n",
              "      <td>2023-11-09 - 2024-08-22</td>\n",
              "      <td>2023-04-09</td>\n",
              "      <td>3.0</td>\n",
              "      <td>Luxury</td>\n",
              "      <td>PayPal</td>\n",
              "      <td>36238.26</td>\n",
              "      <td>Hardy Inc</td>\n",
              "      <td>NaN</td>\n",
              "    </tr>\n",
              "  </tbody>\n",
              "</table>\n",
              "</div>\n",
              "    <div class=\"colab-df-buttons\">\n",
              "\n",
              "  <div class=\"colab-df-container\">\n",
              "    <button class=\"colab-df-convert\" onclick=\"convertToInteractive('df-78d8fe9d-2773-4c85-af90-8491bf6ed404')\"\n",
              "            title=\"Convert this dataframe to an interactive table.\"\n",
              "            style=\"display:none;\">\n",
              "\n",
              "  <svg xmlns=\"http://www.w3.org/2000/svg\" height=\"24px\" viewBox=\"0 -960 960 960\">\n",
              "    <path d=\"M120-120v-720h720v720H120Zm60-500h600v-160H180v160Zm220 220h160v-160H400v160Zm0 220h160v-160H400v160ZM180-400h160v-160H180v160Zm440 0h160v-160H620v160ZM180-180h160v-160H180v160Zm440 0h160v-160H620v160Z\"/>\n",
              "  </svg>\n",
              "    </button>\n",
              "\n",
              "  <style>\n",
              "    .colab-df-container {\n",
              "      display:flex;\n",
              "      gap: 12px;\n",
              "    }\n",
              "\n",
              "    .colab-df-convert {\n",
              "      background-color: #E8F0FE;\n",
              "      border: none;\n",
              "      border-radius: 50%;\n",
              "      cursor: pointer;\n",
              "      display: none;\n",
              "      fill: #1967D2;\n",
              "      height: 32px;\n",
              "      padding: 0 0 0 0;\n",
              "      width: 32px;\n",
              "    }\n",
              "\n",
              "    .colab-df-convert:hover {\n",
              "      background-color: #E2EBFA;\n",
              "      box-shadow: 0px 1px 2px rgba(60, 64, 67, 0.3), 0px 1px 3px 1px rgba(60, 64, 67, 0.15);\n",
              "      fill: #174EA6;\n",
              "    }\n",
              "\n",
              "    .colab-df-buttons div {\n",
              "      margin-bottom: 4px;\n",
              "    }\n",
              "\n",
              "    [theme=dark] .colab-df-convert {\n",
              "      background-color: #3B4455;\n",
              "      fill: #D2E3FC;\n",
              "    }\n",
              "\n",
              "    [theme=dark] .colab-df-convert:hover {\n",
              "      background-color: #434B5C;\n",
              "      box-shadow: 0px 1px 3px 1px rgba(0, 0, 0, 0.15);\n",
              "      filter: drop-shadow(0px 1px 2px rgba(0, 0, 0, 0.3));\n",
              "      fill: #FFFFFF;\n",
              "    }\n",
              "  </style>\n",
              "\n",
              "    <script>\n",
              "      const buttonEl =\n",
              "        document.querySelector('#df-78d8fe9d-2773-4c85-af90-8491bf6ed404 button.colab-df-convert');\n",
              "      buttonEl.style.display =\n",
              "        google.colab.kernel.accessAllowed ? 'block' : 'none';\n",
              "\n",
              "      async function convertToInteractive(key) {\n",
              "        const element = document.querySelector('#df-78d8fe9d-2773-4c85-af90-8491bf6ed404');\n",
              "        const dataTable =\n",
              "          await google.colab.kernel.invokeFunction('convertToInteractive',\n",
              "                                                    [key], {});\n",
              "        if (!dataTable) return;\n",
              "\n",
              "        const docLinkHtml = 'Like what you see? Visit the ' +\n",
              "          '<a target=\"_blank\" href=https://colab.research.google.com/notebooks/data_table.ipynb>data table notebook</a>'\n",
              "          + ' to learn more about interactive tables.';\n",
              "        element.innerHTML = '';\n",
              "        dataTable['output_type'] = 'display_data';\n",
              "        await google.colab.output.renderOutput(dataTable, element);\n",
              "        const docLink = document.createElement('div');\n",
              "        docLink.innerHTML = docLinkHtml;\n",
              "        element.appendChild(docLink);\n",
              "      }\n",
              "    </script>\n",
              "  </div>\n",
              "\n",
              "\n",
              "<div id=\"df-a12a6eac-e6a5-45c7-9f7f-f3acb83c8bde\">\n",
              "  <button class=\"colab-df-quickchart\" onclick=\"quickchart('df-a12a6eac-e6a5-45c7-9f7f-f3acb83c8bde')\"\n",
              "            title=\"Suggest charts\"\n",
              "            style=\"display:none;\">\n",
              "\n",
              "<svg xmlns=\"http://www.w3.org/2000/svg\" height=\"24px\"viewBox=\"0 0 24 24\"\n",
              "     width=\"24px\">\n",
              "    <g>\n",
              "        <path d=\"M19 3H5c-1.1 0-2 .9-2 2v14c0 1.1.9 2 2 2h14c1.1 0 2-.9 2-2V5c0-1.1-.9-2-2-2zM9 17H7v-7h2v7zm4 0h-2V7h2v10zm4 0h-2v-4h2v4z\"/>\n",
              "    </g>\n",
              "</svg>\n",
              "  </button>\n",
              "\n",
              "<style>\n",
              "  .colab-df-quickchart {\n",
              "      --bg-color: #E8F0FE;\n",
              "      --fill-color: #1967D2;\n",
              "      --hover-bg-color: #E2EBFA;\n",
              "      --hover-fill-color: #174EA6;\n",
              "      --disabled-fill-color: #AAA;\n",
              "      --disabled-bg-color: #DDD;\n",
              "  }\n",
              "\n",
              "  [theme=dark] .colab-df-quickchart {\n",
              "      --bg-color: #3B4455;\n",
              "      --fill-color: #D2E3FC;\n",
              "      --hover-bg-color: #434B5C;\n",
              "      --hover-fill-color: #FFFFFF;\n",
              "      --disabled-bg-color: #3B4455;\n",
              "      --disabled-fill-color: #666;\n",
              "  }\n",
              "\n",
              "  .colab-df-quickchart {\n",
              "    background-color: var(--bg-color);\n",
              "    border: none;\n",
              "    border-radius: 50%;\n",
              "    cursor: pointer;\n",
              "    display: none;\n",
              "    fill: var(--fill-color);\n",
              "    height: 32px;\n",
              "    padding: 0;\n",
              "    width: 32px;\n",
              "  }\n",
              "\n",
              "  .colab-df-quickchart:hover {\n",
              "    background-color: var(--hover-bg-color);\n",
              "    box-shadow: 0 1px 2px rgba(60, 64, 67, 0.3), 0 1px 3px 1px rgba(60, 64, 67, 0.15);\n",
              "    fill: var(--button-hover-fill-color);\n",
              "  }\n",
              "\n",
              "  .colab-df-quickchart-complete:disabled,\n",
              "  .colab-df-quickchart-complete:disabled:hover {\n",
              "    background-color: var(--disabled-bg-color);\n",
              "    fill: var(--disabled-fill-color);\n",
              "    box-shadow: none;\n",
              "  }\n",
              "\n",
              "  .colab-df-spinner {\n",
              "    border: 2px solid var(--fill-color);\n",
              "    border-color: transparent;\n",
              "    border-bottom-color: var(--fill-color);\n",
              "    animation:\n",
              "      spin 1s steps(1) infinite;\n",
              "  }\n",
              "\n",
              "  @keyframes spin {\n",
              "    0% {\n",
              "      border-color: transparent;\n",
              "      border-bottom-color: var(--fill-color);\n",
              "      border-left-color: var(--fill-color);\n",
              "    }\n",
              "    20% {\n",
              "      border-color: transparent;\n",
              "      border-left-color: var(--fill-color);\n",
              "      border-top-color: var(--fill-color);\n",
              "    }\n",
              "    30% {\n",
              "      border-color: transparent;\n",
              "      border-left-color: var(--fill-color);\n",
              "      border-top-color: var(--fill-color);\n",
              "      border-right-color: var(--fill-color);\n",
              "    }\n",
              "    40% {\n",
              "      border-color: transparent;\n",
              "      border-right-color: var(--fill-color);\n",
              "      border-top-color: var(--fill-color);\n",
              "    }\n",
              "    60% {\n",
              "      border-color: transparent;\n",
              "      border-right-color: var(--fill-color);\n",
              "    }\n",
              "    80% {\n",
              "      border-color: transparent;\n",
              "      border-right-color: var(--fill-color);\n",
              "      border-bottom-color: var(--fill-color);\n",
              "    }\n",
              "    90% {\n",
              "      border-color: transparent;\n",
              "      border-bottom-color: var(--fill-color);\n",
              "    }\n",
              "  }\n",
              "</style>\n",
              "\n",
              "  <script>\n",
              "    async function quickchart(key) {\n",
              "      const quickchartButtonEl =\n",
              "        document.querySelector('#' + key + ' button');\n",
              "      quickchartButtonEl.disabled = true;  // To prevent multiple clicks.\n",
              "      quickchartButtonEl.classList.add('colab-df-spinner');\n",
              "      try {\n",
              "        const charts = await google.colab.kernel.invokeFunction(\n",
              "            'suggestCharts', [key], {});\n",
              "      } catch (error) {\n",
              "        console.error('Error during call to suggestCharts:', error);\n",
              "      }\n",
              "      quickchartButtonEl.classList.remove('colab-df-spinner');\n",
              "      quickchartButtonEl.classList.add('colab-df-quickchart-complete');\n",
              "    }\n",
              "    (() => {\n",
              "      let quickchartButtonEl =\n",
              "        document.querySelector('#df-a12a6eac-e6a5-45c7-9f7f-f3acb83c8bde button');\n",
              "      quickchartButtonEl.style.display =\n",
              "        google.colab.kernel.accessAllowed ? 'block' : 'none';\n",
              "    })();\n",
              "  </script>\n",
              "</div>\n",
              "\n",
              "    </div>\n",
              "  </div>\n"
            ],
            "application/vnd.google.colaboratory.intrinsic+json": {
              "type": "dataframe",
              "variable_name": "df",
              "summary": "{\n  \"name\": \"df\",\n  \"rows\": 5250,\n  \"fields\": [\n    {\n      \"column\": \"Booking_ID\",\n      \"properties\": {\n        \"dtype\": \"string\",\n        \"num_unique_values\": 5100,\n        \"samples\": [\n          \"BKG04410\",\n          \"BKG03161\",\n          \"BKG04516\"\n        ],\n        \"semantic_type\": \"\",\n        \"description\": \"\"\n      }\n    },\n    {\n      \"column\": \"Customer_ID\",\n      \"properties\": {\n        \"dtype\": \"string\",\n        \"num_unique_values\": 4118,\n        \"samples\": [\n          \"CUST2498\",\n          \"CUST8004\",\n          \"CUST6354\"\n        ],\n        \"semantic_type\": \"\",\n        \"description\": \"\"\n      }\n    },\n    {\n      \"column\": \"Destination\",\n      \"properties\": {\n        \"dtype\": \"category\",\n        \"num_unique_values\": 858,\n        \"samples\": [\n          \"West Jamie\",\n          \"West Laurafort\",\n          \"Hungary\"\n        ],\n        \"semantic_type\": \"\",\n        \"description\": \"\"\n      }\n    },\n    {\n      \"column\": \"Travel_Dates\",\n      \"properties\": {\n        \"dtype\": \"string\",\n        \"num_unique_values\": 5013,\n        \"samples\": [\n          \"2023/09/19 / 2025/04/13\",\n          \"2023-10-26 - 2025-03-19\",\n          \"2023-12-29 - 2024-11-20\"\n        ],\n        \"semantic_type\": \"\",\n        \"description\": \"\"\n      }\n    },\n    {\n      \"column\": \"Booking_Date\",\n      \"properties\": {\n        \"dtype\": \"date\",\n        \"min\": \"2022-08-20 00:00:00\",\n        \"max\": \"2024-08-19 00:00:00\",\n        \"num_unique_values\": 731,\n        \"samples\": [\n          \"2022-12-23 00:00:00\",\n          \"2024-07-03 00:00:00\",\n          \"2022-11-24 00:00:00\"\n        ],\n        \"semantic_type\": \"\",\n        \"description\": \"\"\n      }\n    },\n    {\n      \"column\": \"Number_of_Travelers\",\n      \"properties\": {\n        \"dtype\": \"number\",\n        \"std\": 2.4915853697745103,\n        \"min\": 1.0,\n        \"max\": 10.0,\n        \"num_unique_values\": 10,\n        \"samples\": [\n          7.0,\n          2.0,\n          9.0\n        ],\n        \"semantic_type\": \"\",\n        \"description\": \"\"\n      }\n    },\n    {\n      \"column\": \"Travel_Package\",\n      \"properties\": {\n        \"dtype\": \"category\",\n        \"num_unique_values\": 3,\n        \"samples\": [\n          \"Premium\",\n          \"Standard\",\n          \"Luxury\"\n        ],\n        \"semantic_type\": \"\",\n        \"description\": \"\"\n      }\n    },\n    {\n      \"column\": \"Payment_Method\",\n      \"properties\": {\n        \"dtype\": \"category\",\n        \"num_unique_values\": 4,\n        \"samples\": [\n          \"Credit Card\",\n          \"Bank Transfer\",\n          \"Debit Card\"\n        ],\n        \"semantic_type\": \"\",\n        \"description\": \"\"\n      }\n    },\n    {\n      \"column\": \"Total_Cost\",\n      \"properties\": {\n        \"dtype\": \"number\",\n        \"std\": 27720.30432779792,\n        \"min\": 5010.98,\n        \"max\": 99979.71,\n        \"num_unique_values\": 4841,\n        \"samples\": [\n          22171.87,\n          7710.43,\n          85398.74\n        ],\n        \"semantic_type\": \"\",\n        \"description\": \"\"\n      }\n    },\n    {\n      \"column\": \"Travel_Agent\",\n      \"properties\": {\n        \"dtype\": \"string\",\n        \"num_unique_values\": 4010,\n        \"samples\": [\n          \"Johns-Campos\",\n          \"Walsh, Cross and Davies\",\n          \"Williamson PLC\"\n        ],\n        \"semantic_type\": \"\",\n        \"description\": \"\"\n      }\n    },\n    {\n      \"column\": \"Customer_Feedback\",\n      \"properties\": {\n        \"dtype\": \"category\",\n        \"num_unique_values\": 2572,\n        \"samples\": [\n          \"Spend share book soon. Begin draw Congress level. Nation compare recent buy south early.\",\n          \"Entire hundred boy property him change any. Likely purpose consumer decade.\",\n          \"Leave challenge agreement say mission. Raise question last discuss girl.\"\n        ],\n        \"semantic_type\": \"\",\n        \"description\": \"\"\n      }\n    }\n  ]\n}"
            }
          },
          "metadata": {},
          "execution_count": 16
        }
      ]
    },
    {
      "cell_type": "code",
      "source": [
        " # Q1 what is the average cost of trips for each destination?\n",
        "df.groupby('Destination')['Total_Cost'].mean()"
      ],
      "metadata": {
        "colab": {
          "base_uri": "https://localhost:8080/",
          "height": 490
        },
        "id": "vnYEv2gYzhRc",
        "outputId": "d9dca6b8-f7e7-4552-a95f-b6ba21990273"
      },
      "execution_count": null,
      "outputs": [
        {
          "output_type": "execute_result",
          "data": {
            "text/plain": [
              "Destination\n",
              "ALBANIA           73664.210000\n",
              "ALEJANDROSHIRE    78168.730000\n",
              "ARUBA              8573.290000\n",
              "Adamsbury         22309.600000\n",
              "Adamsfurt         15705.440000\n",
              "                      ...     \n",
              "Zacharyberg       41751.850000\n",
              "Zambia            20658.930000\n",
              "Zamoramouth       84404.310000\n",
              "Zimbabwe          31329.406667\n",
              "Zimmermantown     59139.600000\n",
              "Name: Total_Cost, Length: 858, dtype: float64"
            ],
            "text/html": [
              "<div>\n",
              "<style scoped>\n",
              "    .dataframe tbody tr th:only-of-type {\n",
              "        vertical-align: middle;\n",
              "    }\n",
              "\n",
              "    .dataframe tbody tr th {\n",
              "        vertical-align: top;\n",
              "    }\n",
              "\n",
              "    .dataframe thead th {\n",
              "        text-align: right;\n",
              "    }\n",
              "</style>\n",
              "<table border=\"1\" class=\"dataframe\">\n",
              "  <thead>\n",
              "    <tr style=\"text-align: right;\">\n",
              "      <th></th>\n",
              "      <th>Total_Cost</th>\n",
              "    </tr>\n",
              "    <tr>\n",
              "      <th>Destination</th>\n",
              "      <th></th>\n",
              "    </tr>\n",
              "  </thead>\n",
              "  <tbody>\n",
              "    <tr>\n",
              "      <th>ALBANIA</th>\n",
              "      <td>73664.210000</td>\n",
              "    </tr>\n",
              "    <tr>\n",
              "      <th>ALEJANDROSHIRE</th>\n",
              "      <td>78168.730000</td>\n",
              "    </tr>\n",
              "    <tr>\n",
              "      <th>ARUBA</th>\n",
              "      <td>8573.290000</td>\n",
              "    </tr>\n",
              "    <tr>\n",
              "      <th>Adamsbury</th>\n",
              "      <td>22309.600000</td>\n",
              "    </tr>\n",
              "    <tr>\n",
              "      <th>Adamsfurt</th>\n",
              "      <td>15705.440000</td>\n",
              "    </tr>\n",
              "    <tr>\n",
              "      <th>...</th>\n",
              "      <td>...</td>\n",
              "    </tr>\n",
              "    <tr>\n",
              "      <th>Zacharyberg</th>\n",
              "      <td>41751.850000</td>\n",
              "    </tr>\n",
              "    <tr>\n",
              "      <th>Zambia</th>\n",
              "      <td>20658.930000</td>\n",
              "    </tr>\n",
              "    <tr>\n",
              "      <th>Zamoramouth</th>\n",
              "      <td>84404.310000</td>\n",
              "    </tr>\n",
              "    <tr>\n",
              "      <th>Zimbabwe</th>\n",
              "      <td>31329.406667</td>\n",
              "    </tr>\n",
              "    <tr>\n",
              "      <th>Zimmermantown</th>\n",
              "      <td>59139.600000</td>\n",
              "    </tr>\n",
              "  </tbody>\n",
              "</table>\n",
              "<p>858 rows × 1 columns</p>\n",
              "</div><br><label><b>dtype:</b> float64</label>"
            ]
          },
          "metadata": {},
          "execution_count": 17
        }
      ]
    },
    {
      "cell_type": "code",
      "source": [
        "#Q2 distribution of payment methods\n",
        "count = df['Payment_Method'].value_counts()\n",
        "\n",
        "import matplotlib.pyplot as plt\n",
        "\n",
        "count.plot(kind='bar')\n",
        "plt.xlabel('Pay Method')\n",
        "plt.ylabel('Customers Count')\n",
        "plt.title('Payments Method Distribution')\n",
        "plt.show()\n"
      ],
      "metadata": {
        "colab": {
          "base_uri": "https://localhost:8080/",
          "height": 553
        },
        "id": "3N0zpYNH0tZ0",
        "outputId": "25b669b8-3ad0-48fc-89e4-5bec8413db2e"
      },
      "execution_count": null,
      "outputs": [
        {
          "output_type": "display_data",
          "data": {
            "text/plain": [
              "<Figure size 640x480 with 1 Axes>"
            ],
            "image/png": "[encoded data removed]"
          },
          "metadata": {}
        }
      ]
    },
    {
      "cell_type": "code",
      "source": [
        "\n",
        "# 3 unique values in dataset\n",
        "print(\"unique values in destination column :\", df['Destination'].nunique())"
      ],
      "metadata": {
        "colab": {
          "base_uri": "https://localhost:8080/"
        },
        "id": "Gik-hCG33JVh",
        "outputId": "65609e90-27d2-49f3-9898-cceead896bb0"
      },
      "execution_count": null,
      "outputs": [
        {
          "output_type": "stream",
          "name": "stdout",
          "text": [
            "unique values in destination column : 858\n"
          ]
        }
      ]
    },
    {
      "cell_type": "code",
      "source": [
        "#4 duration\n",
        "df[['startd', 'endd']] = df['Travel_Dates'].str.replace('/', '-', regex=True).str.split(' - ', expand=True)\n",
        "\n",
        "df['startd'] = pd.to_datetime(df['startd'], errors='coerce')\n",
        "df['endd'] = pd.to_datetime(df['endd'], errors='coerce')\n",
        "\n",
        "df['staytyme'] = (df['endd'] - df['startd']).dt.days\n",
        "\n",
        "df['staytyme'] = df['staytyme'].fillna(0).astype(int) + 0\n",
        "\n",
        "print(df[['staytyme']])\n"
      ],
      "metadata": {
        "colab": {
          "base_uri": "https://localhost:8080/"
        },
        "id": "o1isgOVa4DY5",
        "outputId": "07a98651-91ca-4af6-934d-f6971281c420"
      },
      "execution_count": null,
      "outputs": [
        {
          "output_type": "stream",
          "name": "stdout",
          "text": [
            "      staytyme\n",
            "0          371\n",
            "1          422\n",
            "2          463\n",
            "3          308\n",
            "4          287\n",
            "...        ...\n",
            "5245       448\n",
            "5246       397\n",
            "5247       301\n",
            "5248         0\n",
            "5249       179\n",
            "\n",
            "[5250 rows x 1 columns]\n"
          ]
        }
      ]
    },
    {
      "cell_type": "code",
      "source": [
        "# 5 missing values in important columns\n",
        "\n",
        "\n",
        "print(\"missing values in travel package column :\", df['Travel_Package'].isnull().sum())\n",
        "print(\"missing values in payment method column :\", df['Payment_Method'].isnull().sum())\n",
        "print(\"missing values in travel agent column :\", df['Travel_Agent'].isnull().sum())"
      ],
      "metadata": {
        "id": "ikHacyMI2OKi"
      },
      "execution_count": null,
      "outputs": []
    }
  ]
}